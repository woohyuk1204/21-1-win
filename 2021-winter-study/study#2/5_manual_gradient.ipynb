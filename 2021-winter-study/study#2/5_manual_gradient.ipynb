{
 "metadata": {
  "language_info": {
   "codemirror_mode": {
    "name": "ipython",
    "version": 3
   },
   "file_extension": ".py",
   "mimetype": "text/x-python",
   "name": "python",
   "nbconvert_exporter": "python",
   "pygments_lexer": "ipython3",
   "version": "3.8.5-final"
  },
  "orig_nbformat": 2,
  "kernelspec": {
   "name": "python3",
   "display_name": "Python 3",
   "language": "python"
  }
 },
 "nbformat": 4,
 "nbformat_minor": 2,
 "cells": [
  {
   "cell_type": "code",
   "execution_count": 1,
   "metadata": {},
   "outputs": [],
   "source": [
    "# Training Data\n",
    "x_data = [1.0, 2.0, 3.0]\n",
    "y_data = [2.0, 4.0, 6.0]\n",
    "\n",
    "w = 1.0  # a random guess: random value"
   ]
  },
  {
   "cell_type": "code",
   "execution_count": 2,
   "metadata": {},
   "outputs": [],
   "source": [
    "# our model forward pass\n",
    "def forward(x):\n",
    "    return x * w\n",
    "\n",
    "# Loss function\n",
    "def loss(x, y):\n",
    "    y_pred = forward(x)\n",
    "    return (y_pred - y) * (y_pred - y)\n",
    "\n",
    "# compute gradient\n",
    "def gradient(x, y):  # d_loss/d_w\n",
    "    return 2 * x * (x * w - y)"
   ]
  },
  {
   "cell_type": "code",
   "execution_count": 3,
   "metadata": {},
   "outputs": [
    {
     "output_type": "stream",
     "name": "stdout",
     "text": [
      "학습 전 예측, 4 시간 공부하면? 점수는: 4.0\n"
     ]
    }
   ],
   "source": [
    "# Before training\n",
    "print(\"학습 전 예측, 4 시간 공부하면? 점수는:\", forward(4))"
   ]
  },
  {
   "cell_type": "code",
   "execution_count": 4,
   "metadata": {},
   "outputs": [
    {
     "output_type": "stream",
     "name": "stdout",
     "text": [
      "학습 전 Loss 값 4 16.0\n"
     ]
    }
   ],
   "source": [
    "# Loss Before training\n",
    "print(\"학습 전 Loss 값\",  4, loss(4, 8))"
   ]
  },
  {
   "cell_type": "code",
   "execution_count": 6,
   "metadata": {},
   "outputs": [
    {
     "output_type": "stream",
     "name": "stdout",
     "text": [
      "\tgrad:  1.0 2.0 -0.0\n\tgrad:  2.0 4.0 -0.0\n\tgrad:  3.0 6.0 -0.0\nepoch: 0 w= 2.0 loss= 0.0\n\tgrad:  1.0 2.0 -0.0\n\tgrad:  2.0 4.0 -0.0\n\tgrad:  3.0 6.0 -0.0\nepoch: 1 w= 2.0 loss= 0.0\n\tgrad:  1.0 2.0 -0.0\n\tgrad:  2.0 4.0 -0.0\n\tgrad:  3.0 6.0 -0.0\nepoch: 2 w= 2.0 loss= 0.0\n\tgrad:  1.0 2.0 -0.0\n\tgrad:  2.0 4.0 -0.0\n\tgrad:  3.0 6.0 -0.0\nepoch: 3 w= 2.0 loss= 0.0\n\tgrad:  1.0 2.0 -0.0\n\tgrad:  2.0 4.0 -0.0\n\tgrad:  3.0 6.0 -0.0\nepoch: 4 w= 2.0 loss= 0.0\n\tgrad:  1.0 2.0 -0.0\n\tgrad:  2.0 4.0 -0.0\n\tgrad:  3.0 6.0 -0.0\nepoch: 5 w= 2.0 loss= 0.0\n\tgrad:  1.0 2.0 -0.0\n\tgrad:  2.0 4.0 -0.0\n\tgrad:  3.0 6.0 -0.0\nepoch: 6 w= 2.0 loss= 0.0\n\tgrad:  1.0 2.0 -0.0\n\tgrad:  2.0 4.0 -0.0\n\tgrad:  3.0 6.0 -0.0\nepoch: 7 w= 2.0 loss= 0.0\n\tgrad:  1.0 2.0 -0.0\n\tgrad:  2.0 4.0 -0.0\n\tgrad:  3.0 6.0 -0.0\nepoch: 8 w= 2.0 loss= 0.0\n\tgrad:  1.0 2.0 -0.0\n\tgrad:  2.0 4.0 -0.0\n\tgrad:  3.0 6.0 -0.0\nepoch: 9 w= 2.0 loss= 0.0\nPredicted score (after training) 4 hours of studying:  7.999977344679617\n"
     ]
    }
   ],
   "source": [
    "# Training loop\n",
    "for epoch in range(10):\n",
    "    for x_val, y_val in zip(x_data, y_data):\n",
    "        # Compute derivative w.r.t to the learned weights\n",
    "        # Update the weights\n",
    "        # Compute the loss and print epoch\n",
    "        grad = gradient(x_val, y_val)\n",
    "        w = w - 0.01 * grad\n",
    "        print(\"\\tgrad: \", x_val, y_val, round(grad, 2))\n",
    "        l = loss(x_val, y_val)\n",
    "    print(\"epoch:\", epoch, \"w=\", round(w, 2), \"loss=\", round(l, 2))\n",
    "\n",
    "# After training\n",
    "print(\"Predicted score (after training)\",  \"4 hours of studying: \", forward(4))"
   ]
  }
 ]
}